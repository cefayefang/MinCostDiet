{
 "cells": [
  {
   "cell_type": "markdown",
   "id": "b46cc8ac-684f-4f42-89c1-7dd2ae56d72a",
   "metadata": {},
   "source": [
    "## Introduction\n",
    "\n"
   ]
  },
  {
   "cell_type": "markdown",
   "id": "c54cbbed-f1c9-455a-a079-d2dce54f91c7",
   "metadata": {},
   "source": [
    "We're thinking about the problem of finding the cheapest possible\n",
    "nutritious diet. As we have discussed, this can be set up as a linear program.\n",
    "\n",
    "$$\n",
    "    \\min_x p'x\n",
    "$$\n",
    "\n",
    "such that\n",
    "$$\n",
    "Ax \\geq b\n",
    "$$\n",
    "\n",
    "where $p$ is a vector of prices, $A$ is a matrix that maps\n",
    "vectors of quantities of food into vectors of nutrients, and where b is a vector of nutrient constraints.\n",
    "\n",
    "The goal of this notebook is to expose the class to some data sources and to generate a minimum cost diet for the United States using recent national average price data.\n",
    "\n"
   ]
  },
  {
   "cell_type": "markdown",
   "id": "fd54507b-f6d3-441b-bfc5-fc73e4632faf",
   "metadata": {},
   "source": [
    "## Food and Nutrient Data\n",
    "\n"
   ]
  },
  {
   "cell_type": "markdown",
   "id": "dd6be7ce-eb68-4419-95a1-5f59396a5df2",
   "metadata": {},
   "source": [
    "The USDA maintains a database of foods called the [FNDDS](https://www.ars.usda.gov/northeast-area/beltsville-md-bhnrc/beltsville-human-nutrition-research-center/food-surveys-research-group/docs/fndds/) (Food and Nutrition Database for Dietary Studies). In it, they define \"recipes,\" which are made up of \"ingredients.\" There are one or more ingredients per recipe. Ingredients are then mapped to nutrients in terms of nutrient units per 100 g of an ingredient. Thus, using these mappings, we can generate a FNDDS recipe-level food-to-nutrient matrix we can use as our \"A\" matrix.\n",
    "\n",
    "Lets first define a helper function we will use to make sure ids are formatted similarly (to help with dataframe merging). \n",
    "\n"
   ]
  },
  {
   "cell_type": "code",
   "execution_count": 1,
   "id": "c57bbf8b-779a-484c-b9ed-0af0a07a32d0",
   "metadata": {},
   "outputs": [],
   "source": [
    "def format_id(id,zeropadding=0):\n",
    "    \"\"\"Nice string format for any id, string or numeric.\n",
    "\n",
    "    Optional zeropadding parameter takes an integer\n",
    "    formats as {id:0z} where\n",
    "    \"\"\"\n",
    "    if pd.isnull(id) or id in ['','.']: return None\n",
    "\n",
    "    try:  # If numeric, return as string int\n",
    "        return ('%d' % id).zfill(zeropadding)\n",
    "    except TypeError:  # Not numeric\n",
    "        return id.split('.')[0].strip().zfill(zeropadding)\n",
    "    except ValueError:\n",
    "        return None"
   ]
  },
  {
   "cell_type": "markdown",
   "id": "485dac5b-ae08-4e8d-a595-bcd796b02c23",
   "metadata": {},
   "source": [
    "Lets load in the recipes and see what we have.\n",
    "\n"
   ]
  },
  {
   "cell_type": "code",
   "execution_count": 2,
   "id": "ecb065dc-2a6d-41e6-95da-d3db7f456ddd",
   "metadata": {},
   "outputs": [
    {
     "data": {
      "text/html": [
       "<div>\n",
       "<style scoped>\n",
       "    .dataframe tbody tr th:only-of-type {\n",
       "        vertical-align: middle;\n",
       "    }\n",
       "\n",
       "    .dataframe tbody tr th {\n",
       "        vertical-align: top;\n",
       "    }\n",
       "\n",
       "    .dataframe thead th {\n",
       "        text-align: right;\n",
       "    }\n",
       "</style>\n",
       "<table border=\"1\" class=\"dataframe\">\n",
       "  <thead>\n",
       "    <tr style=\"text-align: right;\">\n",
       "      <th></th>\n",
       "      <th>parent_foodcode</th>\n",
       "      <th>recipe</th>\n",
       "      <th>ingred_code</th>\n",
       "      <th>ingred_desc</th>\n",
       "      <th>ingred_wt</th>\n",
       "    </tr>\n",
       "  </thead>\n",
       "  <tbody>\n",
       "    <tr>\n",
       "      <th>30351</th>\n",
       "      <td>58301110</td>\n",
       "      <td>Vegetable lasagna, frozen meal</td>\n",
       "      <td>1029</td>\n",
       "      <td>Cheese, mozzarella, low moisture, part-skim</td>\n",
       "      <td>8.0</td>\n",
       "    </tr>\n",
       "    <tr>\n",
       "      <th>30352</th>\n",
       "      <td>58301110</td>\n",
       "      <td>Vegetable lasagna, frozen meal</td>\n",
       "      <td>1032</td>\n",
       "      <td>Cheese, parmesan, grated</td>\n",
       "      <td>20.0</td>\n",
       "    </tr>\n",
       "    <tr>\n",
       "      <th>30353</th>\n",
       "      <td>58301110</td>\n",
       "      <td>Vegetable lasagna, frozen meal</td>\n",
       "      <td>1036</td>\n",
       "      <td>Cheese, ricotta, whole milk</td>\n",
       "      <td>12.0</td>\n",
       "    </tr>\n",
       "    <tr>\n",
       "      <th>30354</th>\n",
       "      <td>58301110</td>\n",
       "      <td>Vegetable lasagna, frozen meal</td>\n",
       "      <td>1050</td>\n",
       "      <td>Cream, fluid, light (coffee cream or table cream)</td>\n",
       "      <td>30.0</td>\n",
       "    </tr>\n",
       "    <tr>\n",
       "      <th>30355</th>\n",
       "      <td>58301110</td>\n",
       "      <td>Vegetable lasagna, frozen meal</td>\n",
       "      <td>1151</td>\n",
       "      <td>Milk, nonfat, fluid, without added vitamin A a...</td>\n",
       "      <td>20.0</td>\n",
       "    </tr>\n",
       "    <tr>\n",
       "      <th>30356</th>\n",
       "      <td>58301110</td>\n",
       "      <td>Vegetable lasagna, frozen meal</td>\n",
       "      <td>2047</td>\n",
       "      <td>Salt, table, iodized</td>\n",
       "      <td>2.2</td>\n",
       "    </tr>\n",
       "    <tr>\n",
       "      <th>30357</th>\n",
       "      <td>58301110</td>\n",
       "      <td>Vegetable lasagna, frozen meal</td>\n",
       "      <td>4322</td>\n",
       "      <td>Vegetable oil, averaged</td>\n",
       "      <td>8.0</td>\n",
       "    </tr>\n",
       "    <tr>\n",
       "      <th>30358</th>\n",
       "      <td>58301110</td>\n",
       "      <td>Vegetable lasagna, frozen meal</td>\n",
       "      <td>4582</td>\n",
       "      <td>Oil, canola</td>\n",
       "      <td>3.0</td>\n",
       "    </tr>\n",
       "    <tr>\n",
       "      <th>30359</th>\n",
       "      <td>58301110</td>\n",
       "      <td>Vegetable lasagna, frozen meal</td>\n",
       "      <td>4610</td>\n",
       "      <td>Margarine, regular, 80% fat, composite, stick,...</td>\n",
       "      <td>11.0</td>\n",
       "    </tr>\n",
       "    <tr>\n",
       "      <th>30360</th>\n",
       "      <td>58301110</td>\n",
       "      <td>Vegetable lasagna, frozen meal</td>\n",
       "      <td>11090</td>\n",
       "      <td>Broccoli, raw</td>\n",
       "      <td>100.0</td>\n",
       "    </tr>\n",
       "    <tr>\n",
       "      <th>30361</th>\n",
       "      <td>58301110</td>\n",
       "      <td>Vegetable lasagna, frozen meal</td>\n",
       "      <td>11125</td>\n",
       "      <td>Carrots, cooked, boiled, drained, without salt</td>\n",
       "      <td>15.6</td>\n",
       "    </tr>\n",
       "    <tr>\n",
       "      <th>30362</th>\n",
       "      <td>58301110</td>\n",
       "      <td>Vegetable lasagna, frozen meal</td>\n",
       "      <td>11209</td>\n",
       "      <td>Eggplant, raw</td>\n",
       "      <td>8.0</td>\n",
       "    </tr>\n",
       "    <tr>\n",
       "      <th>30363</th>\n",
       "      <td>58301110</td>\n",
       "      <td>Vegetable lasagna, frozen meal</td>\n",
       "      <td>11261</td>\n",
       "      <td>Mushrooms, white, cooked, boiled, drained, wit...</td>\n",
       "      <td>31.2</td>\n",
       "    </tr>\n",
       "    <tr>\n",
       "      <th>30364</th>\n",
       "      <td>58301110</td>\n",
       "      <td>Vegetable lasagna, frozen meal</td>\n",
       "      <td>11283</td>\n",
       "      <td>Onions, cooked, boiled, drained, without salt</td>\n",
       "      <td>8.0</td>\n",
       "    </tr>\n",
       "    <tr>\n",
       "      <th>30365</th>\n",
       "      <td>58301110</td>\n",
       "      <td>Vegetable lasagna, frozen meal</td>\n",
       "      <td>11334</td>\n",
       "      <td>Peppers, sweet, green, cooked, boiled, drained...</td>\n",
       "      <td>8.0</td>\n",
       "    </tr>\n",
       "    <tr>\n",
       "      <th>30366</th>\n",
       "      <td>58301110</td>\n",
       "      <td>Vegetable lasagna, frozen meal</td>\n",
       "      <td>11457</td>\n",
       "      <td>Spinach, raw</td>\n",
       "      <td>8.0</td>\n",
       "    </tr>\n",
       "    <tr>\n",
       "      <th>30367</th>\n",
       "      <td>58301110</td>\n",
       "      <td>Vegetable lasagna, frozen meal</td>\n",
       "      <td>11467</td>\n",
       "      <td>Squash, summer, crookneck and straightneck, raw</td>\n",
       "      <td>4.0</td>\n",
       "    </tr>\n",
       "    <tr>\n",
       "      <th>30368</th>\n",
       "      <td>58301110</td>\n",
       "      <td>Vegetable lasagna, frozen meal</td>\n",
       "      <td>11477</td>\n",
       "      <td>Squash, summer, zucchini, includes skin, raw</td>\n",
       "      <td>4.0</td>\n",
       "    </tr>\n",
       "    <tr>\n",
       "      <th>30369</th>\n",
       "      <td>58301110</td>\n",
       "      <td>Vegetable lasagna, frozen meal</td>\n",
       "      <td>11529</td>\n",
       "      <td>Tomatoes, red, ripe, raw, year round average</td>\n",
       "      <td>15.6</td>\n",
       "    </tr>\n",
       "    <tr>\n",
       "      <th>30370</th>\n",
       "      <td>58301110</td>\n",
       "      <td>Vegetable lasagna, frozen meal</td>\n",
       "      <td>11547</td>\n",
       "      <td>Tomato products, canned, puree, without salt a...</td>\n",
       "      <td>8.0</td>\n",
       "    </tr>\n",
       "    <tr>\n",
       "      <th>30371</th>\n",
       "      <td>58301110</td>\n",
       "      <td>Vegetable lasagna, frozen meal</td>\n",
       "      <td>14429</td>\n",
       "      <td>Beverages, water, tap, municipal</td>\n",
       "      <td>8.0</td>\n",
       "    </tr>\n",
       "    <tr>\n",
       "      <th>30372</th>\n",
       "      <td>58301110</td>\n",
       "      <td>Vegetable lasagna, frozen meal</td>\n",
       "      <td>20027</td>\n",
       "      <td>Cornstarch</td>\n",
       "      <td>1.6</td>\n",
       "    </tr>\n",
       "    <tr>\n",
       "      <th>30373</th>\n",
       "      <td>58301110</td>\n",
       "      <td>Vegetable lasagna, frozen meal</td>\n",
       "      <td>20081</td>\n",
       "      <td>Wheat flour, white, all-purpose, enriched, ble...</td>\n",
       "      <td>15.0</td>\n",
       "    </tr>\n",
       "    <tr>\n",
       "      <th>30374</th>\n",
       "      <td>58301110</td>\n",
       "      <td>Vegetable lasagna, frozen meal</td>\n",
       "      <td>20121</td>\n",
       "      <td>Pasta, cooked, enriched, without added salt</td>\n",
       "      <td>120.0</td>\n",
       "    </tr>\n",
       "  </tbody>\n",
       "</table>\n",
       "</div>"
      ],
      "text/plain": [
       "      parent_foodcode                          recipe ingred_code  \\\n",
       "30351        58301110  Vegetable lasagna, frozen meal        1029   \n",
       "30352        58301110  Vegetable lasagna, frozen meal        1032   \n",
       "30353        58301110  Vegetable lasagna, frozen meal        1036   \n",
       "30354        58301110  Vegetable lasagna, frozen meal        1050   \n",
       "30355        58301110  Vegetable lasagna, frozen meal        1151   \n",
       "30356        58301110  Vegetable lasagna, frozen meal        2047   \n",
       "30357        58301110  Vegetable lasagna, frozen meal        4322   \n",
       "30358        58301110  Vegetable lasagna, frozen meal        4582   \n",
       "30359        58301110  Vegetable lasagna, frozen meal        4610   \n",
       "30360        58301110  Vegetable lasagna, frozen meal       11090   \n",
       "30361        58301110  Vegetable lasagna, frozen meal       11125   \n",
       "30362        58301110  Vegetable lasagna, frozen meal       11209   \n",
       "30363        58301110  Vegetable lasagna, frozen meal       11261   \n",
       "30364        58301110  Vegetable lasagna, frozen meal       11283   \n",
       "30365        58301110  Vegetable lasagna, frozen meal       11334   \n",
       "30366        58301110  Vegetable lasagna, frozen meal       11457   \n",
       "30367        58301110  Vegetable lasagna, frozen meal       11467   \n",
       "30368        58301110  Vegetable lasagna, frozen meal       11477   \n",
       "30369        58301110  Vegetable lasagna, frozen meal       11529   \n",
       "30370        58301110  Vegetable lasagna, frozen meal       11547   \n",
       "30371        58301110  Vegetable lasagna, frozen meal       14429   \n",
       "30372        58301110  Vegetable lasagna, frozen meal       20027   \n",
       "30373        58301110  Vegetable lasagna, frozen meal       20081   \n",
       "30374        58301110  Vegetable lasagna, frozen meal       20121   \n",
       "\n",
       "                                             ingred_desc  ingred_wt  \n",
       "30351        Cheese, mozzarella, low moisture, part-skim        8.0  \n",
       "30352                           Cheese, parmesan, grated       20.0  \n",
       "30353                        Cheese, ricotta, whole milk       12.0  \n",
       "30354  Cream, fluid, light (coffee cream or table cream)       30.0  \n",
       "30355  Milk, nonfat, fluid, without added vitamin A a...       20.0  \n",
       "30356                               Salt, table, iodized        2.2  \n",
       "30357                            Vegetable oil, averaged        8.0  \n",
       "30358                                        Oil, canola        3.0  \n",
       "30359  Margarine, regular, 80% fat, composite, stick,...       11.0  \n",
       "30360                                      Broccoli, raw      100.0  \n",
       "30361     Carrots, cooked, boiled, drained, without salt       15.6  \n",
       "30362                                      Eggplant, raw        8.0  \n",
       "30363  Mushrooms, white, cooked, boiled, drained, wit...       31.2  \n",
       "30364      Onions, cooked, boiled, drained, without salt        8.0  \n",
       "30365  Peppers, sweet, green, cooked, boiled, drained...        8.0  \n",
       "30366                                       Spinach, raw        8.0  \n",
       "30367    Squash, summer, crookneck and straightneck, raw        4.0  \n",
       "30368       Squash, summer, zucchini, includes skin, raw        4.0  \n",
       "30369       Tomatoes, red, ripe, raw, year round average       15.6  \n",
       "30370  Tomato products, canned, puree, without salt a...        8.0  \n",
       "30371                   Beverages, water, tap, municipal        8.0  \n",
       "30372                                         Cornstarch        1.6  \n",
       "30373  Wheat flour, white, all-purpose, enriched, ble...       15.0  \n",
       "30374        Pasta, cooked, enriched, without added salt      120.0  "
      ]
     },
     "execution_count": 2,
     "metadata": {},
     "output_type": "execute_result"
    }
   ],
   "source": [
    "import pandas as pd\n",
    "recipes = (pd.read_csv(\"Data/fndds_recipes.csv\", )\n",
    "           .assign(parent_foodcode = lambda df: df[\"parent_foodcode\"].apply(format_id),\n",
    "                   ingred_code = lambda df: df[\"ingred_code\"].apply(format_id))\n",
    "           .rename(columns={\"parent_desc\": \"recipe\"}))\n",
    "\n",
    "\n",
    "# lets see an example of a recipe.. note \n",
    "recipes[recipes[\"recipe\"].str.contains(\"Vegetable lasagna\", case=False)]"
   ]
  },
  {
   "cell_type": "markdown",
   "id": "eee53432-b42f-4e32-8ab8-b321f6a1666e",
   "metadata": {},
   "source": [
    "And we can take a look at the ingredients. I'll call this dataframe \"nutrition\" because that's what we really care about in here.\n",
    "\n"
   ]
  },
  {
   "cell_type": "code",
   "execution_count": 3,
   "id": "13d58eea-3d63-4dbc-a6ab-d92808997a7a",
   "metadata": {},
   "outputs": [
    {
     "data": {
      "text/html": [
       "<div>\n",
       "<style scoped>\n",
       "    .dataframe tbody tr th:only-of-type {\n",
       "        vertical-align: middle;\n",
       "    }\n",
       "\n",
       "    .dataframe tbody tr th {\n",
       "        vertical-align: top;\n",
       "    }\n",
       "\n",
       "    .dataframe thead th {\n",
       "        text-align: right;\n",
       "    }\n",
       "</style>\n",
       "<table border=\"1\" class=\"dataframe\">\n",
       "  <thead>\n",
       "    <tr style=\"text-align: right;\">\n",
       "      <th></th>\n",
       "      <th>ingred_code</th>\n",
       "      <th>Ingredient description</th>\n",
       "      <th>Capric acid</th>\n",
       "      <th>Lauric acid</th>\n",
       "      <th>Myristic acid</th>\n",
       "      <th>Palmitic acid</th>\n",
       "      <th>Palmitoleic acid</th>\n",
       "      <th>Stearic acid</th>\n",
       "      <th>Oleic acid</th>\n",
       "      <th>Linoleic Acid</th>\n",
       "      <th>...</th>\n",
       "      <th>Vitamin B12</th>\n",
       "      <th>Vitamin B-12, added</th>\n",
       "      <th>Vitamin B6</th>\n",
       "      <th>Vitamin C</th>\n",
       "      <th>Vitamin D</th>\n",
       "      <th>Vitamin E</th>\n",
       "      <th>Vitamin E, added</th>\n",
       "      <th>Vitamin K</th>\n",
       "      <th>Water</th>\n",
       "      <th>Zinc</th>\n",
       "    </tr>\n",
       "  </thead>\n",
       "  <tbody>\n",
       "    <tr>\n",
       "      <th>0</th>\n",
       "      <td>1001</td>\n",
       "      <td>Butter, salted</td>\n",
       "      <td>2.529</td>\n",
       "      <td>2.587</td>\n",
       "      <td>7.436</td>\n",
       "      <td>21.697</td>\n",
       "      <td>0.961</td>\n",
       "      <td>9.999</td>\n",
       "      <td>19.961</td>\n",
       "      <td>2.728</td>\n",
       "      <td>...</td>\n",
       "      <td>0.17</td>\n",
       "      <td>0.0</td>\n",
       "      <td>0.003</td>\n",
       "      <td>0.0</td>\n",
       "      <td>0.0</td>\n",
       "      <td>2.32</td>\n",
       "      <td>0.0</td>\n",
       "      <td>7.0</td>\n",
       "      <td>15.87</td>\n",
       "      <td>0.09</td>\n",
       "    </tr>\n",
       "    <tr>\n",
       "      <th>1</th>\n",
       "      <td>1002</td>\n",
       "      <td>Butter, whipped, with salt</td>\n",
       "      <td>2.039</td>\n",
       "      <td>2.354</td>\n",
       "      <td>7.515</td>\n",
       "      <td>20.531</td>\n",
       "      <td>1.417</td>\n",
       "      <td>7.649</td>\n",
       "      <td>17.370</td>\n",
       "      <td>2.713</td>\n",
       "      <td>...</td>\n",
       "      <td>0.07</td>\n",
       "      <td>0.0</td>\n",
       "      <td>0.008</td>\n",
       "      <td>0.0</td>\n",
       "      <td>0.0</td>\n",
       "      <td>1.37</td>\n",
       "      <td>0.0</td>\n",
       "      <td>4.6</td>\n",
       "      <td>16.72</td>\n",
       "      <td>0.05</td>\n",
       "    </tr>\n",
       "    <tr>\n",
       "      <th>2</th>\n",
       "      <td>1003</td>\n",
       "      <td>Butter oil, anhydrous</td>\n",
       "      <td>2.495</td>\n",
       "      <td>2.793</td>\n",
       "      <td>10.005</td>\n",
       "      <td>26.166</td>\n",
       "      <td>2.228</td>\n",
       "      <td>12.056</td>\n",
       "      <td>25.026</td>\n",
       "      <td>2.247</td>\n",
       "      <td>...</td>\n",
       "      <td>0.01</td>\n",
       "      <td>0.0</td>\n",
       "      <td>0.001</td>\n",
       "      <td>0.0</td>\n",
       "      <td>0.0</td>\n",
       "      <td>2.80</td>\n",
       "      <td>0.0</td>\n",
       "      <td>8.6</td>\n",
       "      <td>0.24</td>\n",
       "      <td>0.01</td>\n",
       "    </tr>\n",
       "    <tr>\n",
       "      <th>3</th>\n",
       "      <td>1004</td>\n",
       "      <td>Cheese, blue</td>\n",
       "      <td>0.601</td>\n",
       "      <td>0.491</td>\n",
       "      <td>3.301</td>\n",
       "      <td>9.153</td>\n",
       "      <td>0.816</td>\n",
       "      <td>3.235</td>\n",
       "      <td>6.622</td>\n",
       "      <td>0.536</td>\n",
       "      <td>...</td>\n",
       "      <td>1.22</td>\n",
       "      <td>0.0</td>\n",
       "      <td>0.166</td>\n",
       "      <td>0.0</td>\n",
       "      <td>0.5</td>\n",
       "      <td>0.25</td>\n",
       "      <td>0.0</td>\n",
       "      <td>2.4</td>\n",
       "      <td>42.41</td>\n",
       "      <td>2.66</td>\n",
       "    </tr>\n",
       "    <tr>\n",
       "      <th>4</th>\n",
       "      <td>1005</td>\n",
       "      <td>Cheese, brick</td>\n",
       "      <td>0.585</td>\n",
       "      <td>0.482</td>\n",
       "      <td>3.227</td>\n",
       "      <td>8.655</td>\n",
       "      <td>0.817</td>\n",
       "      <td>3.455</td>\n",
       "      <td>7.401</td>\n",
       "      <td>0.491</td>\n",
       "      <td>...</td>\n",
       "      <td>1.26</td>\n",
       "      <td>0.0</td>\n",
       "      <td>0.065</td>\n",
       "      <td>0.0</td>\n",
       "      <td>0.5</td>\n",
       "      <td>0.26</td>\n",
       "      <td>0.0</td>\n",
       "      <td>2.5</td>\n",
       "      <td>41.11</td>\n",
       "      <td>2.60</td>\n",
       "    </tr>\n",
       "  </tbody>\n",
       "</table>\n",
       "<p>5 rows × 67 columns</p>\n",
       "</div>"
      ],
      "text/plain": [
       "  ingred_code      Ingredient description  Capric acid  Lauric acid  \\\n",
       "0        1001              Butter, salted        2.529        2.587   \n",
       "1        1002  Butter, whipped, with salt        2.039        2.354   \n",
       "2        1003       Butter oil, anhydrous        2.495        2.793   \n",
       "3        1004                Cheese, blue        0.601        0.491   \n",
       "4        1005               Cheese, brick        0.585        0.482   \n",
       "\n",
       "   Myristic acid  Palmitic acid  Palmitoleic acid  Stearic acid  Oleic acid  \\\n",
       "0          7.436         21.697             0.961         9.999      19.961   \n",
       "1          7.515         20.531             1.417         7.649      17.370   \n",
       "2         10.005         26.166             2.228        12.056      25.026   \n",
       "3          3.301          9.153             0.816         3.235       6.622   \n",
       "4          3.227          8.655             0.817         3.455       7.401   \n",
       "\n",
       "   Linoleic Acid  ...  Vitamin B12  Vitamin B-12, added  Vitamin B6  \\\n",
       "0          2.728  ...         0.17                  0.0       0.003   \n",
       "1          2.713  ...         0.07                  0.0       0.008   \n",
       "2          2.247  ...         0.01                  0.0       0.001   \n",
       "3          0.536  ...         1.22                  0.0       0.166   \n",
       "4          0.491  ...         1.26                  0.0       0.065   \n",
       "\n",
       "   Vitamin C  Vitamin D  Vitamin E  Vitamin E, added  Vitamin K  Water  Zinc  \n",
       "0        0.0        0.0       2.32               0.0        7.0  15.87  0.09  \n",
       "1        0.0        0.0       1.37               0.0        4.6  16.72  0.05  \n",
       "2        0.0        0.0       2.80               0.0        8.6   0.24  0.01  \n",
       "3        0.0        0.5       0.25               0.0        2.4  42.41  2.66  \n",
       "4        0.0        0.5       0.26               0.0        2.5  41.11  2.60  \n",
       "\n",
       "[5 rows x 67 columns]"
      ]
     },
     "metadata": {},
     "output_type": "display_data"
    },
    {
     "data": {
      "text/plain": [
       "Index(['ingred_code', 'Ingredient description', 'Capric acid', 'Lauric acid',\n",
       "       'Myristic acid', 'Palmitic acid', 'Palmitoleic acid', 'Stearic acid',\n",
       "       'Oleic acid', 'Linoleic Acid', 'Linolenic Acid', 'Stearidonic acid',\n",
       "       'Eicosenoic acid', 'Arachidonic acid', 'Eicosapentaenoic acid',\n",
       "       'Erucic acid', 'Docosapentaenoic acid', 'Docosahexaenoic acid',\n",
       "       'Butyric acid', 'Caproic acid', 'Caprylic acid', 'Alcohol', 'Caffeine',\n",
       "       'Calcium', 'Carbohydrate', 'Carotene, alpha', 'Carotene, beta',\n",
       "       'Cholesterol', 'Choline', 'Copper', 'Cryptoxanthin, beta', 'Energy',\n",
       "       'Fatty acids, total monounsaturated',\n",
       "       'Fatty acids, total polyunsaturated', 'Fatty acids, total saturated',\n",
       "       'Dietary Fiber', 'Folate, DFE', 'Folate, food', 'Folate', 'Folic acid',\n",
       "       'Iron', 'Lutein + zeaxanthin', 'Lycopene', 'Magnesium', 'Niacin',\n",
       "       'Phosphorus', 'Potassium', 'Protein', 'Retinol', 'Riboflavin',\n",
       "       'Selenium', 'Sodium', 'Sugars, total', 'Theobromine', 'Thiamin',\n",
       "       'Total Fat', 'Vitamin A', 'Vitamin B12', 'Vitamin B-12, added',\n",
       "       'Vitamin B6', 'Vitamin C', 'Vitamin D', 'Vitamin E', 'Vitamin E, added',\n",
       "       'Vitamin K', 'Water', 'Zinc'],\n",
       "      dtype='object')"
      ]
     },
     "execution_count": 3,
     "metadata": {},
     "output_type": "execute_result"
    }
   ],
   "source": [
    "nutrition = (pd.read_csv(\"Data/fndds_ingredients_nutrients.csv\")\n",
    "             .assign(ingred_code = lambda df: df[\"ingred_code\"].apply(format_id)))\n",
    "\n",
    "display(nutrition.head())\n",
    "nutrition.columns"
   ]
  },
  {
   "cell_type": "markdown",
   "id": "994fc4e5-fc7c-4f79-ab3c-89422300c9d1",
   "metadata": {},
   "source": [
    "Lets merge these mappings to end up with a matrix of recipes and their nutrients as measured by units of a nutrient per 100 grams of that food.\n",
    "\n"
   ]
  },
  {
   "cell_type": "code",
   "execution_count": 4,
   "id": "a8293ef8-4e9a-415b-8c81-eaa4bb4d6fff",
   "metadata": {},
   "outputs": [],
   "source": [
    "# normalize weights to percentage terms. \n",
    "recipes['ingred_wt'] = recipes['ingred_wt']/recipes.groupby(['parent_foodcode'])['ingred_wt'].transform(\"sum\")\n",
    "\n",
    "# we're going to extend the recipes data frame to include the nutrient profiles of its ingredients (in 100g)\n",
    "df = recipes.merge(nutrition, how=\"left\", on=\"ingred_code\")\n",
    "\n",
    "# multiply all nutrients per 100g of an ingredient by the weight of that ingredient in a recipe.\n",
    "numeric_cols = list(df.select_dtypes(include=[\"number\"]).columns)\n",
    "numeric_cols.remove(\"ingred_wt\")\n",
    "df[numeric_cols] = df[numeric_cols].mul(df[\"ingred_wt\"], axis=0)\n",
    "\n",
    "# sum nutrients of food codes (over the multiple ingredients)\n",
    "# python tip: one can merge dictionaries dict1 dict2 using **, that is: dict_merge = {**dict1, **dict2}. The ** effectively \"unpacks\" the key value pairs in each dictionary\n",
    "df = df.groupby('parent_foodcode').agg({**{col: \"sum\" for col in numeric_cols},\n",
    "                                        \"recipe\": \"first\"})\n",
    "\n",
    "df.index.name = \"recipe_id\"\n",
    "\n",
    "food_names = df[\"recipe\"]"
   ]
  },
  {
   "cell_type": "markdown",
   "id": "3fa0cc8b-573c-47a3-95e9-c3b11387541f",
   "metadata": {},
   "source": [
    "If we recall, the $ A  $ matrix maps foods into constrained nutrients. This is effectively the transpose of our `df`. We'll have to do more before we create `A` - not all of these nutrients are constrained, and unfortunately, we won't have prices for all foods.\n",
    "\n"
   ]
  },
  {
   "cell_type": "markdown",
   "id": "73cbf293-b424-4feb-a9df-6e699648be66",
   "metadata": {},
   "source": [
    "## Prices\n",
    "\n"
   ]
  },
  {
   "cell_type": "markdown",
   "id": "5545d700-d504-43d6-b74d-f469228ca651",
   "metadata": {},
   "source": [
    "Now that we have the bones of the matrix $ A $, lets next consider the price vector $ p $. The USDA generates national average prices ([Purchase to Plate](https://www.ers.usda.gov/data-products/purchase-to-plate)) for these FNDDS foods using scanner data from grocery stores all over the country. These are in USD per 100 grams of a recipe. They have been doing this for a while, and they produce the prices in two-year batches.\n",
    "\n"
   ]
  },
  {
   "cell_type": "code",
   "execution_count": 5,
   "id": "befac452-a205-4ae2-a00b-d26a17a968ad",
   "metadata": {},
   "outputs": [
    {
     "name": "stdout",
     "output_type": "stream",
     "text": [
      "Index(['2011/2012', '2013/2014', '2015/2016', '2017/2018'], dtype='object', name='year')\n",
      "We have prices for 4435 unique recipes (FNDDS food codes)\n"
     ]
    }
   ],
   "source": [
    "prices = pd.read_csv(\"Data/fndds_national_prices.csv\", usecols=['year', 'food_code','price_100gm'])\n",
    "prices[\"food_code\"] = prices[\"food_code\"].apply(format_id)\n",
    "\n",
    "prices = prices.set_index([\"year\", \"food_code\"])\n",
    "print(prices.index.levels[0])\n",
    "\n",
    "# we'll focus on the latest price data\n",
    "prices = prices.xs(\"2017/2018\", level=\"year\")\n",
    "\n",
    "# drop rows of prices where the price is \"NA\"\n",
    "prices = prices.dropna(subset='price_100gm')\n",
    "\n",
    "print(f\"We have prices for {prices.shape[0]} unique recipes (FNDDS food codes)\")"
   ]
  },
  {
   "cell_type": "markdown",
   "id": "67347ad5-7aed-4915-962b-d0039219df8b",
   "metadata": {},
   "source": [
    "## Dietary Requirements\n",
    "\n"
   ]
  },
  {
   "cell_type": "markdown",
   "id": "4cb6332e-bb2f-4ca4-a36c-2da1dc81711a",
   "metadata": {},
   "source": [
    "As before, we'll get our dietary requirements from the USDA.\n",
    "\n"
   ]
  },
  {
   "cell_type": "code",
   "execution_count": 6,
   "id": "b6c12c8f-f141-448b-82f8-053871bc7d5d",
   "metadata": {},
   "outputs": [
    {
     "data": {
      "text/plain": [
       "Index(['Nutrient Type', 'Unit', 'Constraint Type', 'Child_1_3', 'Female_4_8',\n",
       "       'Male_4_8', 'Female_9_13', 'Male_9_13', 'Female_14_18', 'Male_14_18',\n",
       "       'Female_19_30', 'Male_19_30', 'Female_31_50', 'Male_31_50',\n",
       "       'Female_51U', 'Male_51U'],\n",
       "      dtype='object')"
      ]
     },
     "execution_count": 6,
     "metadata": {},
     "output_type": "execute_result"
    }
   ],
   "source": [
    "rda = pd.read_csv(\"Data/rda.csv\")\n",
    "rda = rda.set_index(\"Nutrient\")\n",
    "\n",
    "rda.columns"
   ]
  },
  {
   "cell_type": "markdown",
   "id": "89a4ae42-5cb1-4453-8c7e-7a96c03052b9",
   "metadata": {},
   "source": [
    "## Putting It All Together\n",
    "\n"
   ]
  },
  {
   "cell_type": "markdown",
   "id": "9ca8e9ff-5b4b-4db7-b131-549752263655",
   "metadata": {},
   "source": [
    "Earlier, we generated a dataframe of foods and nutrients. This included something like 65 different nutrients over 8,900 recipes! Unfortunately, our price data far fewer foods, so we have to narrow the set of foods from which we are choosing. I'll solve this issue by taking the set intersection of the two sets of food codes, and then select those common food codes from both dataframes.\n",
    "\n"
   ]
  },
  {
   "cell_type": "code",
   "execution_count": 7,
   "id": "d063a91f-8d83-409a-8b5c-7e6f8971c688",
   "metadata": {},
   "outputs": [],
   "source": [
    "common_recipes = df.index.intersection(prices.index)\n",
    "\n",
    "# python tip: given a list of indices, \"loc\" both subsets and sorts. \n",
    "df = df.loc[common_recipes]\n",
    "prices = prices.loc[common_recipes]\n",
    "\n",
    "# lets remap the price dataframe index to be the actual food names.\n",
    "prices.index = prices.index.map(food_names)\n",
    "\n",
    "A_all = df.T"
   ]
  },
  {
   "cell_type": "markdown",
   "id": "c006176c-e09d-40e9-bcbe-831d7198f01e",
   "metadata": {},
   "source": [
    "A<sub>all</sub> will have the same number of foods as p has prices, but we now must to trim down the number of nutrients to include only those for which we have constraints. We'll look at the shapes of all these objects to be sure that the matrix multiplication operations are well defined.\n",
    "\n"
   ]
  },
  {
   "cell_type": "code",
   "execution_count": 8,
   "id": "dc6eea97-3fec-42f0-af2e-836f2b5ed28b",
   "metadata": {},
   "outputs": [
    {
     "name": "stdout",
     "output_type": "stream",
     "text": [
      "bmin.shape=(26,)\n",
      "Amin.shape=(26, 4426)\n",
      "bmax.shape=(1,)\n",
      "Amax.shape=(1, 4426)\n",
      "b.shape=(27,)\n",
      "A.shape=(27, 4426)\n",
      "prices.shape=(4426, 1)\n"
     ]
    }
   ],
   "source": [
    "# pick a demographic (column from rda dataframe)\n",
    "'''\n",
    "select from \n",
    "['Child_1_3', 'Female_4_8', 'Male_4_8', 'Female_9_13', 'Male_9_13', \n",
    "'Female_14_18', 'Male_14_18','Female_19_30', 'Male_19_30', \n",
    "'Female_31_50', 'Male_31_50', 'Female_51U', 'Male_51U']\n",
    "'''\n",
    "group = \"Female_19_30\"\n",
    "\n",
    "# create lower bounds and upper bounds.\n",
    "bmin = rda.loc[rda['Constraint Type'].isin(['RDA', 'AI']), group]\n",
    "bmax = rda.loc[rda['Constraint Type'].isin(['UL']), group]\n",
    "\n",
    "# reindex ensures we only keep nutrients in bmin/bmax\n",
    "Amin = A_all.reindex(bmin.index).dropna(how='all')\n",
    "Amax = A_all.reindex(bmax.index).dropna(how='all')\n",
    "\n",
    "b = pd.concat([bmin, -bmax])\n",
    "A = pd.concat([Amin, -Amax])\n",
    "\n",
    "#python tip: by typing \"=\" after the variable name inside the curly braces, it formats the output so we don't have to write f\"variable = {variable}\"\n",
    "print(f\"{bmin.shape=}\")\n",
    "print(f\"{Amin.shape=}\")\n",
    "print(f\"{bmax.shape=}\")\n",
    "print(f\"{Amax.shape=}\")\n",
    "print(f\"{b.shape=}\")\n",
    "print(f\"{A.shape=}\")\n",
    "print(f\"{prices.shape=}\")"
   ]
  },
  {
   "cell_type": "markdown",
   "id": "6d607279-344e-45c9-9263-d3d09e8ad6ac",
   "metadata": {},
   "source": [
    "## Solving the Problem\n",
    "\n"
   ]
  },
  {
   "cell_type": "markdown",
   "id": "f3037e31-fee8-4dbc-8b18-e00303387bfc",
   "metadata": {},
   "source": [
    "First, we find a solution to the problem\n",
    "\n"
   ]
  },
  {
   "cell_type": "code",
   "execution_count": 9,
   "id": "4ac9f092-f569-4ff7-8468-37299725a38a",
   "metadata": {},
   "outputs": [
    {
     "data": {
      "text/plain": [
       "        message: Optimization terminated successfully. (HiGHS Status 7: Optimal)\n",
       "        success: True\n",
       "         status: 0\n",
       "            fun: 2.4413443120658607\n",
       "              x: [ 0.000e+00  0.000e+00 ...  0.000e+00  0.000e+00]\n",
       "            nit: 20\n",
       "          lower:  residual: [ 0.000e+00  0.000e+00 ...  0.000e+00\n",
       "                              0.000e+00]\n",
       "                 marginals: [ 1.090e-02  1.071e-02 ...  8.545e-02\n",
       "                              4.730e-01]\n",
       "          upper:  residual: [       inf        inf ...        inf\n",
       "                                    inf]\n",
       "                 marginals: [ 0.000e+00  0.000e+00 ...  0.000e+00\n",
       "                              0.000e+00]\n",
       "          eqlin:  residual: []\n",
       "                 marginals: []\n",
       "        ineqlin:  residual: [ 0.000e+00  3.071e+01 ...  2.539e+02\n",
       "                              2.510e+02]\n",
       "                 marginals: [-4.930e-05 -0.000e+00 ... -0.000e+00\n",
       "                             -0.000e+00]\n",
       " mip_node_count: 0\n",
       " mip_dual_bound: 0.0\n",
       "        mip_gap: 0.0"
      ]
     },
     "execution_count": 9,
     "metadata": {},
     "output_type": "execute_result"
    }
   ],
   "source": [
    "from  scipy.optimize import linprog as lp\n",
    "import numpy as np\n",
    "p = prices\n",
    "tol = 1e-6 # Numbers in solution smaller than this (in absolute value) treated as zeros\n",
    "result = lp(p, -A, -b, method='highs')\n",
    "\n",
    "result"
   ]
  },
  {
   "cell_type": "markdown",
   "id": "de4f8804-73e4-42d1-99f6-53be40a8dd21",
   "metadata": {},
   "source": [
    "Let's interpret this.  Start with the cost of the solution:\n",
    "\n"
   ]
  },
  {
   "cell_type": "code",
   "execution_count": 10,
   "id": "3583849f-93c6-4eba-be43-533a3adc40a0",
   "metadata": {},
   "outputs": [
    {
     "name": "stdout",
     "output_type": "stream",
     "text": [
      "Cost of diet for Female_19_30 is $2.44 per day.\n"
     ]
    }
   ],
   "source": [
    "print(f\"Cost of diet for {group} is ${result.fun:.2f} per day.\")"
   ]
  },
  {
   "cell_type": "markdown",
   "id": "93d35661-f022-40e0-a513-c8e73b8f04f6",
   "metadata": {},
   "source": [
    "Next, what is it we're actually eating?\n",
    "\n"
   ]
  },
  {
   "cell_type": "code",
   "execution_count": 11,
   "id": "cf6ed48f-ddf9-4141-a8d5-398bca6df21c",
   "metadata": {},
   "outputs": [
    {
     "name": "stdout",
     "output_type": "stream",
     "text": [
      "\n",
      "You'll be eating (in 100s of grams or milliliters):\n",
      "Milk, low fat (1%)                                   8.41\n",
      "Carp, steamed or poached                             0.06\n",
      "Egg, yolk only, raw                                  0.09\n",
      "Split peas, from dried, fat added                    4.84\n",
      "Rice, white, cooked, made with margarine             1.08\n",
      "Cereal (Kellogg's All-Bran Complete Wheat Flakes)    0.05\n",
      "Cereal, toasted oat                                  0.19\n",
      "Ripe plantain, raw                                   3.23\n",
      "dtype: float64\n"
     ]
    }
   ],
   "source": [
    "# lets mess with the index on price df so they are recipe names not ids.\n",
    "\n",
    "# get the result x in a series with food names\n",
    "diet = pd.Series(result.x,index=prices.index)\n",
    "\n",
    "print(\"\\nYou'll be eating (in 100s of grams or milliliters):\")\n",
    "print(round(diet[diet >= tol], 2))"
   ]
  },
  {
   "cell_type": "markdown",
   "id": "484a09fa-1dd9-4287-8b30-c14e4548e399",
   "metadata": {},
   "source": [
    "Given this diet, what are nutritional outcomes?\n",
    "\n"
   ]
  },
  {
   "cell_type": "code",
   "execution_count": 12,
   "id": "5932b0cb-fd06-466a-a952-d12a66d84539",
   "metadata": {},
   "outputs": [
    {
     "name": "stdout",
     "output_type": "stream",
     "text": [
      "\n",
      "With the following nutritional outcomes of interest:\n",
      "                    Outcome  Recommendation\n",
      "Nutrient                                   \n",
      "Energy               2000.0          2000.0\n",
      "Protein           76.714117            46.0\n",
      "Carbohydrate     276.775494           130.0\n",
      "Dietary Fiber     47.781799            28.0\n",
      "Linoleic Acid      21.96157            12.0\n",
      "Linolenic Acid     2.751783             1.1\n",
      "Calcium         1219.941986          1000.0\n",
      "Iron                   18.0            18.0\n",
      "Magnesium        417.695502           310.0\n",
      "Phosphorus      1568.466207           700.0\n",
      "Potassium            4700.0          4700.0\n",
      "Zinc              13.983042             8.0\n",
      "Copper              1.31819             0.9\n",
      "Selenium               55.0            55.0\n",
      "Vitamin A       1277.799363           700.0\n",
      "Vitamin E              15.0            15.0\n",
      "Vitamin D              15.0            15.0\n",
      "Vitamin C              75.0            75.0\n",
      "Thiamin             1.81167             1.1\n",
      "Riboflavin         2.606644             1.1\n",
      "Niacin            14.599967            14.0\n",
      "Vitamin B6         3.419492             1.3\n",
      "Vitamin B12        6.193475             2.4\n",
      "Choline               425.0           425.0\n",
      "Vitamin K         92.198337            90.0\n",
      "Folate           653.914337           400.0\n",
      "Sodium           -2049.0441          2300.0\n"
     ]
    }
   ],
   "source": [
    "tab = pd.DataFrame({\"Outcome\":A.to_numpy()@diet.to_numpy(),\"Recommendation\":np.abs(b)})\n",
    "print(\"\\nWith the following nutritional outcomes of interest:\")\n",
    "print(tab)"
   ]
  },
  {
   "cell_type": "markdown",
   "id": "3b4560bb-01c9-4010-aa7b-1b20bd795ecb",
   "metadata": {},
   "source": [
    "Finally, what are the constraints that bind?  Finding a less expensive\n",
    "diet might involve finding less expensive sources for these particular nutrients.\n",
    "\n"
   ]
  },
  {
   "cell_type": "code",
   "execution_count": 13,
   "id": "fe74710b-0578-4c2a-a45c-c625b596fa70",
   "metadata": {},
   "outputs": [
    {
     "name": "stdout",
     "output_type": "stream",
     "text": [
      "\n",
      "Constraining nutrients are:\n",
      "['Energy', 'Iron', 'Potassium', 'Selenium', 'Vitamin E', 'Vitamin D', 'Vitamin C', 'Choline']\n"
     ]
    }
   ],
   "source": [
    "print(\"\\nConstraining nutrients are:\")\n",
    "excess = tab.diff(axis=1).iloc[:,1]\n",
    "print(excess.loc[np.abs(excess) < tol].index.tolist())"
   ]
  }
 ],
 "metadata": {
  "kernelspec": {
   "display_name": "Python 3 (ipykernel)",
   "language": "python",
   "name": "python3"
  },
  "language_info": {
   "codemirror_mode": {
    "name": "ipython",
    "version": 3
   },
   "file_extension": ".py",
   "mimetype": "text/x-python",
   "name": "python",
   "nbconvert_exporter": "python",
   "pygments_lexer": "ipython3",
   "version": "3.13.1"
  },
  "org": null
 },
 "nbformat": 4,
 "nbformat_minor": 5
}
